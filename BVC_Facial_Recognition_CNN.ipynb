{
  "nbformat": 4,
  "nbformat_minor": 0,
  "metadata": {
    "kernelspec": {
      "language": "python",
      "display_name": "Python 3",
      "name": "python3"
    },
    "language_info": {
      "pygments_lexer": "ipython3",
      "nbconvert_exporter": "python",
      "version": "3.6.4",
      "file_extension": ".py",
      "codemirror_mode": {
        "name": "ipython",
        "version": 3
      },
      "name": "python",
      "mimetype": "text/x-python"
    },
    "colab": {
      "name": "BVC_Facial_Recognition_CNN.ipynb",
      "provenance": []
    },
    "accelerator": "GPU"
  },
  "cells": [
    {
      "cell_type": "code",
      "metadata": {
        "execution": {
          "iopub.status.busy": "2021-08-02T12:00:25.130622Z",
          "iopub.execute_input": "2021-08-02T12:00:25.130939Z",
          "iopub.status.idle": "2021-08-02T12:00:31.597224Z",
          "shell.execute_reply.started": "2021-08-02T12:00:25.130909Z",
          "shell.execute_reply": "2021-08-02T12:00:31.596292Z"
        },
        "trusted": true,
        "id": "A7IVBCr1qUdx"
      },
      "source": [
        "#import required libraries\n",
        "import numpy as np\n",
        "import pandas as pd\n",
        "import matplotlib.pyplot as plt\n",
        "from tensorflow import keras\n",
        "import seaborn as sn\n",
        "from sklearn.metrics import confusion_matrix\n",
        "from tensorflow.keras import layers\n",
        "import warnings\n",
        "warnings.filterwarnings('ignore')\n",
        "\n"
      ],
      "execution_count": 2,
      "outputs": []
    },
    {
      "cell_type": "code",
      "metadata": {
        "colab": {
          "base_uri": "https://localhost:8080/"
        },
        "id": "74M7oGIBGn-Q",
        "outputId": "aaff092d-194c-4d5e-a3e4-98efc84bbb7c"
      },
      "source": [
        "from google.colab import drive\n",
        "drive.mount(\"/content/gdrive\")"
      ],
      "execution_count": 1,
      "outputs": [
        {
          "output_type": "stream",
          "text": [
            "Mounted at /content/gdrive\n"
          ],
          "name": "stdout"
        }
      ]
    },
    {
      "cell_type": "code",
      "metadata": {
        "execution": {
          "iopub.status.busy": "2021-08-02T12:00:33.82253Z",
          "iopub.execute_input": "2021-08-02T12:00:33.822872Z",
          "iopub.status.idle": "2021-08-02T12:00:39.646526Z",
          "shell.execute_reply.started": "2021-08-02T12:00:33.82284Z",
          "shell.execute_reply": "2021-08-02T12:00:39.645371Z"
        },
        "trusted": true,
        "colab": {
          "base_uri": "https://localhost:8080/"
        },
        "id": "F4P1AYr8qUdy",
        "outputId": "f6e18477-25f6-4c15-ce3e-80b2f0b6d9d6"
      },
      "source": [
        "#Read the csv file \n",
        "data = pd.read_csv('/content/gdrive/My Drive/fer2013.csv')\n",
        "data.shape"
      ],
      "execution_count": 3,
      "outputs": [
        {
          "output_type": "execute_result",
          "data": {
            "text/plain": [
              "(35887, 3)"
            ]
          },
          "metadata": {
            "tags": []
          },
          "execution_count": 3
        }
      ]
    },
    {
      "cell_type": "code",
      "metadata": {
        "colab": {
          "base_uri": "https://localhost:8080/",
          "height": 206
        },
        "id": "qpZiptAYPMw6",
        "outputId": "e28cb030-1163-4753-83df-6b9f0c3f4d2d"
      },
      "source": [
        "data.head()"
      ],
      "execution_count": null,
      "outputs": [
        {
          "output_type": "execute_result",
          "data": {
            "text/html": [
              "<div>\n",
              "<style scoped>\n",
              "    .dataframe tbody tr th:only-of-type {\n",
              "        vertical-align: middle;\n",
              "    }\n",
              "\n",
              "    .dataframe tbody tr th {\n",
              "        vertical-align: top;\n",
              "    }\n",
              "\n",
              "    .dataframe thead th {\n",
              "        text-align: right;\n",
              "    }\n",
              "</style>\n",
              "<table border=\"1\" class=\"dataframe\">\n",
              "  <thead>\n",
              "    <tr style=\"text-align: right;\">\n",
              "      <th></th>\n",
              "      <th>emotion</th>\n",
              "      <th>pixels</th>\n",
              "      <th>Usage</th>\n",
              "    </tr>\n",
              "  </thead>\n",
              "  <tbody>\n",
              "    <tr>\n",
              "      <th>0</th>\n",
              "      <td>0</td>\n",
              "      <td>70 80 82 72 58 58 60 63 54 58 60 48 89 115 121...</td>\n",
              "      <td>Training</td>\n",
              "    </tr>\n",
              "    <tr>\n",
              "      <th>1</th>\n",
              "      <td>0</td>\n",
              "      <td>151 150 147 155 148 133 111 140 170 174 182 15...</td>\n",
              "      <td>Training</td>\n",
              "    </tr>\n",
              "    <tr>\n",
              "      <th>2</th>\n",
              "      <td>2</td>\n",
              "      <td>231 212 156 164 174 138 161 173 182 200 106 38...</td>\n",
              "      <td>Training</td>\n",
              "    </tr>\n",
              "    <tr>\n",
              "      <th>3</th>\n",
              "      <td>4</td>\n",
              "      <td>24 32 36 30 32 23 19 20 30 41 21 22 32 34 21 1...</td>\n",
              "      <td>Training</td>\n",
              "    </tr>\n",
              "    <tr>\n",
              "      <th>4</th>\n",
              "      <td>6</td>\n",
              "      <td>4 0 0 0 0 0 0 0 0 0 0 0 3 15 23 28 48 50 58 84...</td>\n",
              "      <td>Training</td>\n",
              "    </tr>\n",
              "  </tbody>\n",
              "</table>\n",
              "</div>"
            ],
            "text/plain": [
              "   emotion                                             pixels     Usage\n",
              "0        0  70 80 82 72 58 58 60 63 54 58 60 48 89 115 121...  Training\n",
              "1        0  151 150 147 155 148 133 111 140 170 174 182 15...  Training\n",
              "2        2  231 212 156 164 174 138 161 173 182 200 106 38...  Training\n",
              "3        4  24 32 36 30 32 23 19 20 30 41 21 22 32 34 21 1...  Training\n",
              "4        6  4 0 0 0 0 0 0 0 0 0 0 0 3 15 23 28 48 50 58 84...  Training"
            ]
          },
          "metadata": {
            "tags": []
          },
          "execution_count": 133
        }
      ]
    },
    {
      "cell_type": "code",
      "metadata": {
        "id": "SPSNOt9Hx5kJ"
      },
      "source": [
        "#this dictionary em will be used to map different emotions\n",
        "em = {0:'Angry', 1:'Disgust', 2:'Fear', 3:'Happy', 4:'Sad', 5:'Surprise', 6:'Neutral'}\n",
        "#Store the different emotions in a list also\n",
        "target_names = ['Angry', 'Disgust', 'Fear', 'Happy', 'Sad', 'Surprise', 'Neutral']"
      ],
      "execution_count": 11,
      "outputs": []
    },
    {
      "cell_type": "code",
      "metadata": {
        "execution": {
          "iopub.status.busy": "2021-07-28T10:41:38.639721Z",
          "iopub.execute_input": "2021-07-28T10:41:38.64026Z",
          "iopub.status.idle": "2021-07-28T10:41:38.668107Z",
          "shell.execute_reply.started": "2021-07-28T10:41:38.640209Z",
          "shell.execute_reply": "2021-07-28T10:41:38.66702Z"
        },
        "trusted": true,
        "colab": {
          "base_uri": "https://localhost:8080/"
        },
        "id": "-6jV-wXdqUdz",
        "outputId": "d7aa4297-abf0-4b92-e9b5-573dade8d2ca"
      },
      "source": [
        "data.Usage.value_counts()"
      ],
      "execution_count": null,
      "outputs": [
        {
          "output_type": "execute_result",
          "data": {
            "text/plain": [
              "Training       28709\n",
              "PrivateTest     3589\n",
              "PublicTest      3589\n",
              "Name: Usage, dtype: int64"
            ]
          },
          "metadata": {
            "tags": []
          },
          "execution_count": 25
        }
      ]
    },
    {
      "cell_type": "code",
      "metadata": {
        "colab": {
          "base_uri": "https://localhost:8080/",
          "height": 300
        },
        "id": "JIsh_TQlvYlk",
        "outputId": "40c53eba-d591-42a8-935d-d00411098adf"
      },
      "source": [
        "#To see how many samples of each emotion are present\n",
        "\n",
        "newdf = data.groupby('emotion').size()\n",
        "newdf = pd.DataFrame(newdf)\n",
        "newdf.insert(0, \"Emotion type\", target_names, True)\n",
        "newdf.columns = [ 'Emotion', 'No of samples']\n",
        "newdf\n",
        "\n",
        "# newdf.drop('emotion', inplace=True, axis = 1)"
      ],
      "execution_count": 12,
      "outputs": [
        {
          "output_type": "execute_result",
          "data": {
            "text/html": [
              "<div>\n",
              "<style scoped>\n",
              "    .dataframe tbody tr th:only-of-type {\n",
              "        vertical-align: middle;\n",
              "    }\n",
              "\n",
              "    .dataframe tbody tr th {\n",
              "        vertical-align: top;\n",
              "    }\n",
              "\n",
              "    .dataframe thead th {\n",
              "        text-align: right;\n",
              "    }\n",
              "</style>\n",
              "<table border=\"1\" class=\"dataframe\">\n",
              "  <thead>\n",
              "    <tr style=\"text-align: right;\">\n",
              "      <th></th>\n",
              "      <th>Emotion</th>\n",
              "      <th>No of samples</th>\n",
              "    </tr>\n",
              "    <tr>\n",
              "      <th>emotion</th>\n",
              "      <th></th>\n",
              "      <th></th>\n",
              "    </tr>\n",
              "  </thead>\n",
              "  <tbody>\n",
              "    <tr>\n",
              "      <th>0</th>\n",
              "      <td>Angry</td>\n",
              "      <td>4953</td>\n",
              "    </tr>\n",
              "    <tr>\n",
              "      <th>1</th>\n",
              "      <td>Disgust</td>\n",
              "      <td>547</td>\n",
              "    </tr>\n",
              "    <tr>\n",
              "      <th>2</th>\n",
              "      <td>Fear</td>\n",
              "      <td>5121</td>\n",
              "    </tr>\n",
              "    <tr>\n",
              "      <th>3</th>\n",
              "      <td>Happy</td>\n",
              "      <td>8989</td>\n",
              "    </tr>\n",
              "    <tr>\n",
              "      <th>4</th>\n",
              "      <td>Sad</td>\n",
              "      <td>6077</td>\n",
              "    </tr>\n",
              "    <tr>\n",
              "      <th>5</th>\n",
              "      <td>Surprise</td>\n",
              "      <td>4002</td>\n",
              "    </tr>\n",
              "    <tr>\n",
              "      <th>6</th>\n",
              "      <td>Neutral</td>\n",
              "      <td>6198</td>\n",
              "    </tr>\n",
              "  </tbody>\n",
              "</table>\n",
              "</div>"
            ],
            "text/plain": [
              "          Emotion  No of samples\n",
              "emotion                         \n",
              "0           Angry           4953\n",
              "1         Disgust            547\n",
              "2            Fear           5121\n",
              "3           Happy           8989\n",
              "4             Sad           6077\n",
              "5        Surprise           4002\n",
              "6         Neutral           6198"
            ]
          },
          "metadata": {
            "tags": []
          },
          "execution_count": 12
        }
      ]
    },
    {
      "cell_type": "code",
      "metadata": {
        "execution": {
          "iopub.status.busy": "2021-08-02T12:00:45.39084Z",
          "iopub.execute_input": "2021-08-02T12:00:45.391164Z",
          "iopub.status.idle": "2021-08-02T12:00:45.410469Z",
          "shell.execute_reply.started": "2021-08-02T12:00:45.391136Z",
          "shell.execute_reply": "2021-08-02T12:00:45.40958Z"
        },
        "trusted": true,
        "id": "iJwYIHB0qUd0"
      },
      "source": [
        "#Separate the training, validation and test data sets\n",
        "data_train = data[data['Usage'] == 'Training'].copy()\n",
        "data_val = data[data['Usage'] == 'PublicTest'].copy()\n",
        "data_test = data[data['Usage'] == 'PrivateTest'].copy()"
      ],
      "execution_count": 8,
      "outputs": []
    },
    {
      "cell_type": "code",
      "metadata": {
        "execution": {
          "iopub.status.busy": "2021-08-02T12:00:47.604676Z",
          "iopub.execute_input": "2021-08-02T12:00:47.604993Z",
          "iopub.status.idle": "2021-08-02T12:00:47.630491Z",
          "shell.execute_reply.started": "2021-08-02T12:00:47.604965Z",
          "shell.execute_reply": "2021-08-02T12:00:47.629764Z"
        },
        "trusted": true,
        "colab": {
          "base_uri": "https://localhost:8080/"
        },
        "id": "f9xwgUkJqUd0",
        "outputId": "6bd9490e-d0f6-4a49-e2b8-f2541770ff18"
      },
      "source": [
        "data_train.info()"
      ],
      "execution_count": null,
      "outputs": [
        {
          "output_type": "stream",
          "text": [
            "<class 'pandas.core.frame.DataFrame'>\n",
            "Int64Index: 28709 entries, 0 to 28708\n",
            "Data columns (total 3 columns):\n",
            " #   Column   Non-Null Count  Dtype \n",
            "---  ------   --------------  ----- \n",
            " 0   emotion  28709 non-null  int64 \n",
            " 1   pixels   28709 non-null  object\n",
            " 2   Usage    28709 non-null  object\n",
            "dtypes: int64(1), object(2)\n",
            "memory usage: 897.2+ KB\n"
          ],
          "name": "stdout"
        }
      ]
    },
    {
      "cell_type": "code",
      "metadata": {
        "execution": {
          "iopub.status.busy": "2021-08-02T12:00:50.209245Z",
          "iopub.execute_input": "2021-08-02T12:00:50.209717Z",
          "iopub.status.idle": "2021-08-02T12:00:50.213534Z",
          "shell.execute_reply.started": "2021-08-02T12:00:50.209678Z",
          "shell.execute_reply": "2021-08-02T12:00:50.212876Z"
        },
        "trusted": true,
        "id": "SEs4Kw1tqUd1"
      },
      "source": [
        "#initilize parameters\n",
        "num_classes = 7 \n",
        "width, height = 48, 48\n",
        "num_epochs = 30\n",
        "batch_size = 32\n",
        "num_features = 64\n",
        "input_shape = (width, height, 1)"
      ],
      "execution_count": 6,
      "outputs": []
    },
    {
      "cell_type": "code",
      "metadata": {
        "execution": {
          "iopub.status.busy": "2021-08-02T12:00:52.417858Z",
          "iopub.execute_input": "2021-08-02T12:00:52.418373Z",
          "iopub.status.idle": "2021-08-02T12:01:16.849477Z",
          "shell.execute_reply.started": "2021-08-02T12:00:52.41833Z",
          "shell.execute_reply": "2021-08-02T12:01:16.848569Z"
        },
        "trusted": true,
        "colab": {
          "base_uri": "https://localhost:8080/"
        },
        "id": "49WdARZqqUd1",
        "outputId": "672d70bc-1c6a-41a0-d070-82fc09ac09c3"
      },
      "source": [
        "#this function converts the pixels into a 2D array of size 48x48 and does one-hot encoding for the emotions\n",
        "from tensorflow.keras.utils import to_categorical\n",
        "def CRNO(df, dataName):\n",
        "    df['pixels'] = df['pixels'].apply(lambda pixel_sequence: [int(pixel) for pixel in pixel_sequence.split()])\n",
        "    data_X = np.array(df['pixels'].tolist(), dtype='float32').reshape(-1,width, height,1)/255.0  \n",
        "    data_Y = to_categorical(df['emotion'], num_classes)  \n",
        "    print(dataName, \"_X shape: {}, \", dataName, \"_Y shape: {}\".format(data_X.shape, data_Y.shape)) \n",
        "    return data_X, data_Y\n",
        "\n",
        "    \n",
        "train_X, train_Y = CRNO(data_train, \"train\") #training data\n",
        "val_X, val_Y     = CRNO(data_val, \"val\") #validation data\n",
        "test_X, test_Y   = CRNO(data_test, \"test\") #test data"
      ],
      "execution_count": 9,
      "outputs": [
        {
          "output_type": "stream",
          "text": [
            "train _X shape: {},  train _Y shape: (28709, 48, 48, 1)\n",
            "val _X shape: {},  val _Y shape: (3589, 48, 48, 1)\n",
            "test _X shape: {},  test _Y shape: (3589, 48, 48, 1)\n"
          ],
          "name": "stdout"
        }
      ]
    },
    {
      "cell_type": "code",
      "metadata": {
        "colab": {
          "base_uri": "https://localhost:8080/",
          "height": 537
        },
        "id": "1KKxyya6r9FF",
        "outputId": "195e4495-698d-49a8-b07f-111c02d971a5"
      },
      "source": [
        "#Let us see some of the images and their target emotions\n",
        "\n",
        "plt.figure(figsize=(16, 10))\n",
        "\n",
        "plt.gray()\n",
        "flag = 0\n",
        "i= 1\n",
        "cnt = 0\n",
        "for i in range(1,8):\n",
        "        plt.subplot(2, 4, i)\n",
        "        plt.imshow(train_X[i].reshape(width, height))\n",
        "        plt.title(em[data_train.emotion[i]])\n",
        "        plt.axis('off')    \n",
        "       \n",
        "\n",
        "plt.show()"
      ],
      "execution_count": 13,
      "outputs": [
        {
          "output_type": "display_data",
          "data": {
            "image/png": "[encoded data removed]",
            "text/plain": [
              "<Figure size 1152x720 with 7 Axes>"
            ]
          },
          "metadata": {
            "tags": [],
            "needs_background": "light"
          }
        }
      ]
    },
    {
      "cell_type": "code",
      "metadata": {
        "execution": {
          "iopub.status.busy": "2021-08-02T12:01:20.607917Z",
          "iopub.execute_input": "2021-08-02T12:01:20.608263Z",
          "iopub.status.idle": "2021-08-02T12:01:21.197129Z",
          "shell.execute_reply.started": "2021-08-02T12:01:20.608232Z",
          "shell.execute_reply": "2021-08-02T12:01:21.196115Z"
        },
        "trusted": true,
        "id": "-_RmUGg5qUd2"
      },
      "source": [
        "from keras.layers.convolutional import Conv2D, MaxPooling2D\n",
        "from tensorflow.keras.layers import BatchNormalization\n",
        "from keras.layers import Dense, Dropout, Activation, Flatten\n",
        "model = keras.Sequential()\n",
        "\n",
        "#Add the different layers to the model\n",
        "\n",
        "# model = keras.Sequential(\n",
        "#     [\n",
        "#         keras.Input(shape=input_shape),\n",
        "#         #module 1\n",
        "#         layers.Conv2D(num_features, kernel_size=(3, 3), activation=\"relu\"),\n",
        "        \n",
        "#         layers.MaxPooling2D(pool_size=(2, 2), strides=(2, 2)),\n",
        "        \n",
        "#         layers.Conv2D(2*num_features, kernel_size=(3, 3), activation=\"relu\"),\n",
        "#         layers.MaxPooling2D(pool_size=(2, 2), strides=(2, 2)),\n",
        "       \n",
        "#         layers.Conv2D(2*num_features, kernel_size=(3, 3), activation=\"relu\"),\n",
        "#         layers.MaxPooling2D(pool_size=(2, 2), strides=(2, 2)),\n",
        "        \n",
        "#         layers.Conv2D(8*num_features, kernel_size=(3, 3), activation=\"relu\"),\n",
        "#         layers.MaxPooling2D(pool_size=(2, 2), strides=(2, 2)),\n",
        "#         layers.Flatten(),\n",
        "#         layers.Dense(num_classes, activation=\"softmax\"),\n",
        "#     ]\n",
        "# )\n",
        "# model.summary()\n",
        "\n",
        "#module 1\n",
        "model.add(Conv2D(num_features, kernel_size=(3, 3), input_shape=(width, height, 1), data_format='channels_last'))\n",
        "model.add(BatchNormalization())\n",
        "model.add(Activation('relu'))\n",
        "model.add(Conv2D(num_features, kernel_size=(3, 3), padding='same'))\n",
        "model.add(BatchNormalization())\n",
        "model.add(Activation('relu'))\n",
        "model.add(MaxPooling2D(pool_size=(2, 2), strides=(2, 2)))\n",
        "\n",
        "#module 2\n",
        "model.add(Conv2D(2*num_features, kernel_size=(3, 3), padding='same'))\n",
        "model.add(BatchNormalization())\n",
        "model.add(Activation('relu'))\n",
        "model.add(Conv2D(2*num_features, kernel_size=(3, 3), padding='same'))\n",
        "model.add(BatchNormalization())\n",
        "model.add(Activation('relu'))\n",
        "model.add(MaxPooling2D(pool_size=(2, 2), strides=(2, 2)))\n",
        "\n",
        "#module 3\n",
        "model.add(Conv2D(2*num_features, kernel_size=(3, 3), padding='same'))\n",
        "model.add(BatchNormalization())\n",
        "model.add(Activation('relu'))\n",
        "model.add(Conv2D(2*num_features, kernel_size=(3, 3), padding='same'))\n",
        "model.add(BatchNormalization())\n",
        "model.add(Activation('relu'))\n",
        "model.add(Conv2D(2*num_features, kernel_size=(3, 3), padding='same'))\n",
        "model.add(BatchNormalization())\n",
        "model.add(Activation('relu'))\n",
        "model.add(MaxPooling2D(pool_size=(2, 2), strides=(2, 2)))\n",
        "\n",
        "\n",
        "#module 4\n",
        "model.add(Conv2D(num_features*8, kernel_size=(3, 3), padding='same'))\n",
        "model.add(BatchNormalization())\n",
        "model.add(Activation('relu'))\n",
        "model.add(Conv2D(num_features*8, kernel_size=(3, 3), padding='same'))\n",
        "model.add(BatchNormalization())\n",
        "model.add(Activation('relu'))\n",
        "model.add(Conv2D(num_features*8, kernel_size=(3, 3), padding='same'))\n",
        "model.add(BatchNormalization())\n",
        "model.add(Activation('relu'))\n",
        "model.add(MaxPooling2D(pool_size=(2, 2), strides=(2, 2)))\n",
        "\n",
        "#flatten\n",
        "model.add(Flatten())\n",
        "\n",
        "#dense 1\n",
        "model.add(Dense(64*num_features))\n",
        "model.add(BatchNormalization())\n",
        "model.add(Activation('relu'))\n",
        "\n",
        "#dense 2\n",
        "model.add(Dense(64*num_features))\n",
        "model.add(BatchNormalization())\n",
        "model.add(Activation('relu'))\n",
        "\n",
        "model.add(Dropout(0.3))\n",
        "\n",
        "#output layer\n",
        "model.add(Dense(num_classes, activation='softmax'))\n",
        "\n",
        "\n",
        "\n"
      ],
      "execution_count": null,
      "outputs": []
    },
    {
      "cell_type": "code",
      "metadata": {
        "execution": {
          "iopub.status.busy": "2021-08-02T12:01:28.080639Z",
          "iopub.execute_input": "2021-08-02T12:01:28.080964Z",
          "iopub.status.idle": "2021-08-02T14:31:32.524699Z",
          "shell.execute_reply.started": "2021-08-02T12:01:28.080935Z",
          "shell.execute_reply": "2021-08-02T14:31:32.523287Z"
        },
        "trusted": true,
        "colab": {
          "base_uri": "https://localhost:8080/"
        },
        "id": "zNFswIffqUd2",
        "outputId": "78b4e99b-3cb2-465c-b2cb-4b6b581ed66c"
      },
      "source": [
        "#train the model\n",
        "model.compile(loss=\"categorical_crossentropy\", optimizer=\"adam\", metrics=[\"accuracy\"])\n",
        "model.fit(train_X, train_Y, batch_size=batch_size, epochs=num_epochs, validation_data=(val_X, val_Y))\n",
        "model.summary()"
      ],
      "execution_count": null,
      "outputs": [
        {
          "output_type": "stream",
          "text": [
            "Epoch 1/30\n",
            "898/898 [==============================] - 33s 35ms/step - loss: 2.0805 - accuracy: 0.2886 - val_loss: 2.4786 - val_accuracy: 0.3383\n",
            "Epoch 2/30\n",
            "898/898 [==============================] - 31s 34ms/step - loss: 1.7664 - accuracy: 0.3658 - val_loss: 1.5112 - val_accuracy: 0.4274\n",
            "Epoch 3/30\n",
            "898/898 [==============================] - 31s 35ms/step - loss: 1.5708 - accuracy: 0.4334 - val_loss: 1.6230 - val_accuracy: 0.3338\n",
            "Epoch 4/30\n",
            "898/898 [==============================] - 31s 35ms/step - loss: 1.4274 - accuracy: 0.4797 - val_loss: 1.3946 - val_accuracy: 0.4695\n",
            "Epoch 5/30\n",
            "898/898 [==============================] - 31s 35ms/step - loss: 1.3083 - accuracy: 0.5211 - val_loss: 1.5473 - val_accuracy: 0.4263\n",
            "Epoch 6/30\n",
            "898/898 [==============================] - 31s 35ms/step - loss: 1.2356 - accuracy: 0.5464 - val_loss: 1.3019 - val_accuracy: 0.5024\n",
            "Epoch 7/30\n",
            "898/898 [==============================] - 31s 35ms/step - loss: 1.2342 - accuracy: 0.5568 - val_loss: 1.3938 - val_accuracy: 0.4650\n",
            "Epoch 8/30\n",
            "898/898 [==============================] - 31s 35ms/step - loss: 1.2030 - accuracy: 0.5639 - val_loss: 1.5026 - val_accuracy: 0.5135\n",
            "Epoch 9/30\n",
            "898/898 [==============================] - 31s 35ms/step - loss: 1.0793 - accuracy: 0.6055 - val_loss: 1.1316 - val_accuracy: 0.5731\n",
            "Epoch 10/30\n",
            "898/898 [==============================] - 31s 35ms/step - loss: 1.0728 - accuracy: 0.6160 - val_loss: 1.2385 - val_accuracy: 0.5391\n",
            "Epoch 11/30\n",
            "898/898 [==============================] - 32s 35ms/step - loss: 1.0268 - accuracy: 0.6268 - val_loss: 1.2723 - val_accuracy: 0.5453\n",
            "Epoch 12/30\n",
            "898/898 [==============================] - 31s 35ms/step - loss: 0.9533 - accuracy: 0.6549 - val_loss: 1.7483 - val_accuracy: 0.4731\n",
            "Epoch 13/30\n",
            "898/898 [==============================] - 31s 35ms/step - loss: 0.8979 - accuracy: 0.6788 - val_loss: 1.1279 - val_accuracy: 0.6018\n",
            "Epoch 14/30\n",
            "898/898 [==============================] - 31s 35ms/step - loss: 0.7961 - accuracy: 0.7126 - val_loss: 1.1841 - val_accuracy: 0.5837\n",
            "Epoch 15/30\n",
            "898/898 [==============================] - 31s 35ms/step - loss: 0.7328 - accuracy: 0.7416 - val_loss: 1.2255 - val_accuracy: 0.6041\n",
            "Epoch 16/30\n",
            "898/898 [==============================] - 31s 35ms/step - loss: 0.5879 - accuracy: 0.7893 - val_loss: 1.3602 - val_accuracy: 0.5979\n",
            "Epoch 17/30\n",
            "898/898 [==============================] - 31s 35ms/step - loss: 0.5426 - accuracy: 0.8109 - val_loss: 1.3718 - val_accuracy: 0.5996\n",
            "Epoch 18/30\n",
            "898/898 [==============================] - 31s 35ms/step - loss: 0.4633 - accuracy: 0.8434 - val_loss: 1.5801 - val_accuracy: 0.6096\n",
            "Epoch 19/30\n",
            "898/898 [==============================] - 31s 35ms/step - loss: 0.4040 - accuracy: 0.8623 - val_loss: 1.5238 - val_accuracy: 0.6138\n",
            "Epoch 20/30\n",
            "898/898 [==============================] - 32s 35ms/step - loss: 0.2819 - accuracy: 0.9032 - val_loss: 1.6414 - val_accuracy: 0.6186\n",
            "Epoch 21/30\n",
            "898/898 [==============================] - 31s 35ms/step - loss: 0.2592 - accuracy: 0.9099 - val_loss: 1.8255 - val_accuracy: 0.6052\n",
            "Epoch 22/30\n",
            "898/898 [==============================] - 31s 35ms/step - loss: 0.2316 - accuracy: 0.9227 - val_loss: 1.8984 - val_accuracy: 0.6032\n",
            "Epoch 23/30\n",
            "898/898 [==============================] - 31s 35ms/step - loss: 0.2177 - accuracy: 0.9277 - val_loss: 1.8932 - val_accuracy: 0.6172\n",
            "Epoch 24/30\n",
            "898/898 [==============================] - 31s 35ms/step - loss: 0.1734 - accuracy: 0.9422 - val_loss: 2.0439 - val_accuracy: 0.6032\n",
            "Epoch 25/30\n",
            "898/898 [==============================] - 31s 35ms/step - loss: 0.1560 - accuracy: 0.9491 - val_loss: 2.1510 - val_accuracy: 0.5910\n",
            "Epoch 26/30\n",
            "898/898 [==============================] - 31s 35ms/step - loss: 0.1459 - accuracy: 0.9517 - val_loss: 2.0755 - val_accuracy: 0.6096\n",
            "Epoch 27/30\n",
            "898/898 [==============================] - 31s 35ms/step - loss: 0.1936 - accuracy: 0.9377 - val_loss: 2.3839 - val_accuracy: 0.6066\n",
            "Epoch 28/30\n",
            "898/898 [==============================] - 31s 35ms/step - loss: 0.1191 - accuracy: 0.9606 - val_loss: 2.2161 - val_accuracy: 0.6147\n",
            "Epoch 29/30\n",
            "898/898 [==============================] - 31s 35ms/step - loss: 0.1285 - accuracy: 0.9595 - val_loss: 2.2440 - val_accuracy: 0.6347\n",
            "Epoch 30/30\n",
            "898/898 [==============================] - 31s 35ms/step - loss: 0.0868 - accuracy: 0.9722 - val_loss: 2.3467 - val_accuracy: 0.6183\n",
            "Model: \"sequential_15\"\n",
            "_________________________________________________________________\n",
            "Layer (type)                 Output Shape              Param #   \n",
            "=================================================================\n",
            "module_wrapper_330 (ModuleWr (None, 46, 46, 64)        640       \n",
            "_________________________________________________________________\n",
            "batch_normalization_132 (Bat (None, 46, 46, 64)        256       \n",
            "_________________________________________________________________\n",
            "module_wrapper_331 (ModuleWr (None, 46, 46, 64)        0         \n",
            "_________________________________________________________________\n",
            "module_wrapper_332 (ModuleWr (None, 46, 46, 64)        36928     \n",
            "_________________________________________________________________\n",
            "batch_normalization_133 (Bat (None, 46, 46, 64)        256       \n",
            "_________________________________________________________________\n",
            "module_wrapper_333 (ModuleWr (None, 46, 46, 64)        0         \n",
            "_________________________________________________________________\n",
            "module_wrapper_334 (ModuleWr (None, 23, 23, 64)        0         \n",
            "_________________________________________________________________\n",
            "module_wrapper_335 (ModuleWr (None, 23, 23, 128)       73856     \n",
            "_________________________________________________________________\n",
            "batch_normalization_134 (Bat (None, 23, 23, 128)       512       \n",
            "_________________________________________________________________\n",
            "module_wrapper_336 (ModuleWr (None, 23, 23, 128)       0         \n",
            "_________________________________________________________________\n",
            "module_wrapper_337 (ModuleWr (None, 23, 23, 128)       147584    \n",
            "_________________________________________________________________\n",
            "batch_normalization_135 (Bat (None, 23, 23, 128)       512       \n",
            "_________________________________________________________________\n",
            "module_wrapper_338 (ModuleWr (None, 23, 23, 128)       0         \n",
            "_________________________________________________________________\n",
            "module_wrapper_339 (ModuleWr (None, 11, 11, 128)       0         \n",
            "_________________________________________________________________\n",
            "module_wrapper_340 (ModuleWr (None, 11, 11, 128)       147584    \n",
            "_________________________________________________________________\n",
            "batch_normalization_136 (Bat (None, 11, 11, 128)       512       \n",
            "_________________________________________________________________\n",
            "module_wrapper_341 (ModuleWr (None, 11, 11, 128)       0         \n",
            "_________________________________________________________________\n",
            "module_wrapper_342 (ModuleWr (None, 11, 11, 128)       147584    \n",
            "_________________________________________________________________\n",
            "batch_normalization_137 (Bat (None, 11, 11, 128)       512       \n",
            "_________________________________________________________________\n",
            "module_wrapper_343 (ModuleWr (None, 11, 11, 128)       0         \n",
            "_________________________________________________________________\n",
            "module_wrapper_344 (ModuleWr (None, 11, 11, 128)       147584    \n",
            "_________________________________________________________________\n",
            "batch_normalization_138 (Bat (None, 11, 11, 128)       512       \n",
            "_________________________________________________________________\n",
            "module_wrapper_345 (ModuleWr (None, 11, 11, 128)       0         \n",
            "_________________________________________________________________\n",
            "module_wrapper_346 (ModuleWr (None, 5, 5, 128)         0         \n",
            "_________________________________________________________________\n",
            "module_wrapper_347 (ModuleWr (None, 5, 5, 512)         590336    \n",
            "_________________________________________________________________\n",
            "batch_normalization_139 (Bat (None, 5, 5, 512)         2048      \n",
            "_________________________________________________________________\n",
            "module_wrapper_348 (ModuleWr (None, 5, 5, 512)         0         \n",
            "_________________________________________________________________\n",
            "module_wrapper_349 (ModuleWr (None, 5, 5, 512)         2359808   \n",
            "_________________________________________________________________\n",
            "batch_normalization_140 (Bat (None, 5, 5, 512)         2048      \n",
            "_________________________________________________________________\n",
            "module_wrapper_350 (ModuleWr (None, 5, 5, 512)         0         \n",
            "_________________________________________________________________\n",
            "module_wrapper_351 (ModuleWr (None, 5, 5, 512)         2359808   \n",
            "_________________________________________________________________\n",
            "batch_normalization_141 (Bat (None, 5, 5, 512)         2048      \n",
            "_________________________________________________________________\n",
            "module_wrapper_352 (ModuleWr (None, 5, 5, 512)         0         \n",
            "_________________________________________________________________\n",
            "module_wrapper_353 (ModuleWr (None, 2, 2, 512)         0         \n",
            "_________________________________________________________________\n",
            "module_wrapper_354 (ModuleWr (None, 2048)              0         \n",
            "_________________________________________________________________\n",
            "module_wrapper_355 (ModuleWr (None, 4096)              8392704   \n",
            "_________________________________________________________________\n",
            "batch_normalization_142 (Bat (None, 4096)              16384     \n",
            "_________________________________________________________________\n",
            "module_wrapper_356 (ModuleWr (None, 4096)              0         \n",
            "_________________________________________________________________\n",
            "module_wrapper_357 (ModuleWr (None, 4096)              16781312  \n",
            "_________________________________________________________________\n",
            "batch_normalization_143 (Bat (None, 4096)              16384     \n",
            "_________________________________________________________________\n",
            "module_wrapper_358 (ModuleWr (None, 4096)              0         \n",
            "_________________________________________________________________\n",
            "module_wrapper_359 (ModuleWr (None, 4096)              0         \n",
            "_________________________________________________________________\n",
            "module_wrapper_360 (ModuleWr (None, 7)                 28679     \n",
            "=================================================================\n",
            "Total params: 31,256,391\n",
            "Trainable params: 31,235,399\n",
            "Non-trainable params: 20,992\n",
            "_________________________________________________________________\n"
          ],
          "name": "stdout"
        }
      ]
    },
    {
      "cell_type": "code",
      "metadata": {
        "colab": {
          "base_uri": "https://localhost:8080/"
        },
        "id": "MLuyIkmU7hkj",
        "outputId": "cf7cc524-3e42-4ff0-fa3d-f63c8870d997"
      },
      "source": [
        "#To check our model's score on validation and test data\n",
        "score = model.evaluate(val_X, val_Y, verbose = 0)\n",
        "print(\"Val loss:\", score[0])\n",
        "print(\"Val accuracy: \", score[1])"
      ],
      "execution_count": null,
      "outputs": [
        {
          "output_type": "stream",
          "text": [
            "Val loss: 2.3466804027557373\n",
            "Val accuracy:  0.6182780861854553\n"
          ],
          "name": "stdout"
        }
      ]
    },
    {
      "cell_type": "code",
      "metadata": {
        "colab": {
          "base_uri": "https://localhost:8080/"
        },
        "id": "W_iIe4K4q276",
        "outputId": "e33b31d9-b7e5-415b-fb5a-349a934cdbf8"
      },
      "source": [
        "score = model.evaluate(test_X, test_Y, verbose=0)\n",
        "print(\"Test loss:\", score[0])\n",
        "print(\"Test accuracy:\", score[1])"
      ],
      "execution_count": null,
      "outputs": [
        {
          "output_type": "stream",
          "text": [
            "Test loss: 2.334350347518921\n",
            "Test accuracy: 0.6274728178977966\n"
          ],
          "name": "stdout"
        }
      ]
    },
    {
      "cell_type": "code",
      "metadata": {
        "id": "8PVIOPZkLN78"
      },
      "source": [
        "from keras.callbacks import History \n",
        "history = History()"
      ],
      "execution_count": null,
      "outputs": []
    },
    {
      "cell_type": "code",
      "metadata": {
        "id": "mW9kJzG3rRFZ"
      },
      "source": [
        "predict_prob = model.predict(test_X)\n",
        "pred = np.argmax(predict_prob,axis=1)\n",
        "actual = np.argmax(test_Y,axis=1)"
      ],
      "execution_count": null,
      "outputs": []
    },
    {
      "cell_type": "code",
      "metadata": {
        "colab": {
          "base_uri": "https://localhost:8080/",
          "height": 442
        },
        "id": "KwpKecuZrJRi",
        "outputId": "b80263c3-2ed0-4543-895a-8225678886e6"
      },
      "source": [
        "#display confusion matrix\n",
        "cm = confusion_matrix(data_test.emotion, pred)\n",
        "df_cm = pd.DataFrame(cm, (emotion for emotion in target_names), (emotion for emotion in target_names))\n",
        "plt.figure(figsize = (10,7))\n",
        "sn.heatmap(df_cm, annot=True, fmt='g')\n",
        "plt.xlabel('Predicted')\n",
        "plt.ylabel('Truth')\n",
        "plt.show()"
      ],
      "execution_count": null,
      "outputs": [
        {
          "output_type": "display_data",
          "data": {
            "image/png": "[encoded data removed]",
            "text/plain": [
              "<Figure size 720x504 with 2 Axes>"
            ]
          },
          "metadata": {
            "tags": [],
            "needs_background": "light"
          }
        }
      ]
    },
    {
      "cell_type": "code",
      "metadata": {
        "colab": {
          "base_uri": "https://localhost:8080/"
        },
        "id": "mKMOe5IQtS4n",
        "outputId": "4fab3798-74c4-47dd-89f9-6b5fd4b3401c"
      },
      "source": [
        "#his code snippet is for displaying the classification report\n",
        "from sklearn.metrics import classification_report\n",
        "from sklearn.metrics import accuracy_score\n",
        "print(classification_report(data_test['emotion'], pred, target_names=target_names, digits=2))\n"
      ],
      "execution_count": null,
      "outputs": [
        {
          "output_type": "stream",
          "text": [
            "              precision    recall  f1-score   support\n",
            "\n",
            "       Angry       0.60      0.48      0.53       491\n",
            "     Disgust       0.64      0.58      0.61        55\n",
            "        Fear       0.53      0.42      0.47       528\n",
            "       Happy       0.80      0.88      0.84       879\n",
            "         Sad       0.46      0.51      0.49       594\n",
            "    Surprise       0.81      0.69      0.74       416\n",
            "     Neutral       0.54      0.65      0.59       626\n",
            "\n",
            "    accuracy                           0.63      3589\n",
            "   macro avg       0.62      0.60      0.61      3589\n",
            "weighted avg       0.63      0.63      0.62      3589\n",
            "\n"
          ],
          "name": "stdout"
        }
      ]
    },
    {
      "cell_type": "code",
      "metadata": {
        "colab": {
          "base_uri": "https://localhost:8080/",
          "height": 269
        },
        "id": "oTlS0R_-t2Xh",
        "outputId": "bbe70ab2-8119-4530-ca7a-9b8094592b1b"
      },
      "source": [
        "# Check Accuracy of each class \n",
        "\n",
        "#Normalize the entries\n",
        "cm = cm.astype('float') / cm.sum(axis=1)[:, np.newaxis]\n",
        "\n",
        "#The diagonal entries are the accuracies of each class\n",
        "cm.diagonal()\n",
        "d ={'Emotion': target_names, 'Accuracy': cm.diagonal()}\n",
        "df = pd.DataFrame(d)\n",
        "df"
      ],
      "execution_count": null,
      "outputs": [
        {
          "output_type": "execute_result",
          "data": {
            "text/html": [
              "<div>\n",
              "<style scoped>\n",
              "    .dataframe tbody tr th:only-of-type {\n",
              "        vertical-align: middle;\n",
              "    }\n",
              "\n",
              "    .dataframe tbody tr th {\n",
              "        vertical-align: top;\n",
              "    }\n",
              "\n",
              "    .dataframe thead th {\n",
              "        text-align: right;\n",
              "    }\n",
              "</style>\n",
              "<table border=\"1\" class=\"dataframe\">\n",
              "  <thead>\n",
              "    <tr style=\"text-align: right;\">\n",
              "      <th></th>\n",
              "      <th>Emotion</th>\n",
              "      <th>Accuracy</th>\n",
              "    </tr>\n",
              "  </thead>\n",
              "  <tbody>\n",
              "    <tr>\n",
              "      <th>0</th>\n",
              "      <td>Angry</td>\n",
              "      <td>0.476578</td>\n",
              "    </tr>\n",
              "    <tr>\n",
              "      <th>1</th>\n",
              "      <td>Disgust</td>\n",
              "      <td>0.581818</td>\n",
              "    </tr>\n",
              "    <tr>\n",
              "      <th>2</th>\n",
              "      <td>Fear</td>\n",
              "      <td>0.416667</td>\n",
              "    </tr>\n",
              "    <tr>\n",
              "      <th>3</th>\n",
              "      <td>Happy</td>\n",
              "      <td>0.877133</td>\n",
              "    </tr>\n",
              "    <tr>\n",
              "      <th>4</th>\n",
              "      <td>Sad</td>\n",
              "      <td>0.511785</td>\n",
              "    </tr>\n",
              "    <tr>\n",
              "      <th>5</th>\n",
              "      <td>Surprise</td>\n",
              "      <td>0.685096</td>\n",
              "    </tr>\n",
              "    <tr>\n",
              "      <th>6</th>\n",
              "      <td>Neutral</td>\n",
              "      <td>0.648562</td>\n",
              "    </tr>\n",
              "  </tbody>\n",
              "</table>\n",
              "</div>"
            ],
            "text/plain": [
              "    Emotion  Accuracy\n",
              "0     Angry  0.476578\n",
              "1   Disgust  0.581818\n",
              "2      Fear  0.416667\n",
              "3     Happy  0.877133\n",
              "4       Sad  0.511785\n",
              "5  Surprise  0.685096\n",
              "6   Neutral  0.648562"
            ]
          },
          "metadata": {
            "tags": []
          },
          "execution_count": 117
        }
      ]
    }
  ]
}