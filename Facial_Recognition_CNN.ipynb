{
  "nbformat": 4,
  "nbformat_minor": 0,
  "metadata": {
    "kernelspec": {
      "language": "python",
      "display_name": "Python 3",
      "name": "python3"
    },
    "language_info": {
      "pygments_lexer": "ipython3",
      "nbconvert_exporter": "python",
      "version": "3.6.4",
      "file_extension": ".py",
      "codemirror_mode": {
        "name": "ipython",
        "version": 3
      },
      "name": "python",
      "mimetype": "text/x-python"
    },
    "colab": {
      "name": "BVC_Facial_Recognition_CNN.ipynb",
      "provenance": []
    },
    "accelerator": "GPU"
  },
  "cells": [
    {
      "cell_type": "code",
      "metadata": {
        "execution": {
          "iopub.status.busy": "2021-08-02T12:00:25.130622Z",
          "iopub.execute_input": "2021-08-02T12:00:25.130939Z",
          "iopub.status.idle": "2021-08-02T12:00:31.597224Z",
          "shell.execute_reply.started": "2021-08-02T12:00:25.130909Z",
          "shell.execute_reply": "2021-08-02T12:00:31.596292Z"
        },
        "trusted": true,
        "id": "A7IVBCr1qUdx"
      },
      "source": [
        "#import required libraries\n",
        "import numpy as np\n",
        "import pandas as pd\n",
        "import matplotlib.pyplot as plt\n",
        "from tensorflow import keras\n",
        "import seaborn as sn\n",
        "from sklearn.metrics import confusion_matrix\n",
        "from tensorflow.keras import layers\n",
        "import warnings\n",
        "warnings.filterwarnings('ignore')\n",
        "\n"
      ],
      "execution_count": 27,
      "outputs": []
    },
    {
      "cell_type": "code",
      "metadata": {
        "colab": {
          "base_uri": "https://localhost:8080/"
        },
        "id": "74M7oGIBGn-Q",
        "outputId": "3b446bed-84ff-4eae-c725-46ebe8ab61f9"
      },
      "source": [
        "from google.colab import drive\n",
        "drive.mount(\"/content/gdrive\")"
      ],
      "execution_count": 28,
      "outputs": [
        {
          "output_type": "stream",
          "text": [
            "Drive already mounted at /content/gdrive; to attempt to forcibly remount, call drive.mount(\"/content/gdrive\", force_remount=True).\n"
          ],
          "name": "stdout"
        }
      ]
    },
    {
      "cell_type": "code",
      "metadata": {
        "execution": {
          "iopub.status.busy": "2021-08-02T12:00:33.82253Z",
          "iopub.execute_input": "2021-08-02T12:00:33.822872Z",
          "iopub.status.idle": "2021-08-02T12:00:39.646526Z",
          "shell.execute_reply.started": "2021-08-02T12:00:33.82284Z",
          "shell.execute_reply": "2021-08-02T12:00:39.645371Z"
        },
        "trusted": true,
        "colab": {
          "base_uri": "https://localhost:8080/"
        },
        "id": "F4P1AYr8qUdy",
        "outputId": "e71e413d-4fb4-4671-ab3d-fa911b200541"
      },
      "source": [
        "#Read the csv file \n",
        "data = pd.read_csv('/content/gdrive/My Drive/fer2013.csv')\n",
        "data.shape"
      ],
      "execution_count": 29,
      "outputs": [
        {
          "output_type": "execute_result",
          "data": {
            "text/plain": [
              "(35887, 3)"
            ]
          },
          "metadata": {},
          "execution_count": 29
        }
      ]
    },
    {
      "cell_type": "code",
      "metadata": {
        "colab": {
          "base_uri": "https://localhost:8080/",
          "height": 206
        },
        "id": "qpZiptAYPMw6",
        "outputId": "46d7c02d-8962-4738-b70b-b76fa02b8e07"
      },
      "source": [
        "data.head()"
      ],
      "execution_count": 30,
      "outputs": [
        {
          "output_type": "execute_result",
          "data": {
            "text/html": [
              "<div>\n",
              "<style scoped>\n",
              "    .dataframe tbody tr th:only-of-type {\n",
              "        vertical-align: middle;\n",
              "    }\n",
              "\n",
              "    .dataframe tbody tr th {\n",
              "        vertical-align: top;\n",
              "    }\n",
              "\n",
              "    .dataframe thead th {\n",
              "        text-align: right;\n",
              "    }\n",
              "</style>\n",
              "<table border=\"1\" class=\"dataframe\">\n",
              "  <thead>\n",
              "    <tr style=\"text-align: right;\">\n",
              "      <th></th>\n",
              "      <th>emotion</th>\n",
              "      <th>pixels</th>\n",
              "      <th>Usage</th>\n",
              "    </tr>\n",
              "  </thead>\n",
              "  <tbody>\n",
              "    <tr>\n",
              "      <th>0</th>\n",
              "      <td>0</td>\n",
              "      <td>70 80 82 72 58 58 60 63 54 58 60 48 89 115 121...</td>\n",
              "      <td>Training</td>\n",
              "    </tr>\n",
              "    <tr>\n",
              "      <th>1</th>\n",
              "      <td>0</td>\n",
              "      <td>151 150 147 155 148 133 111 140 170 174 182 15...</td>\n",
              "      <td>Training</td>\n",
              "    </tr>\n",
              "    <tr>\n",
              "      <th>2</th>\n",
              "      <td>2</td>\n",
              "      <td>231 212 156 164 174 138 161 173 182 200 106 38...</td>\n",
              "      <td>Training</td>\n",
              "    </tr>\n",
              "    <tr>\n",
              "      <th>3</th>\n",
              "      <td>4</td>\n",
              "      <td>24 32 36 30 32 23 19 20 30 41 21 22 32 34 21 1...</td>\n",
              "      <td>Training</td>\n",
              "    </tr>\n",
              "    <tr>\n",
              "      <th>4</th>\n",
              "      <td>6</td>\n",
              "      <td>4 0 0 0 0 0 0 0 0 0 0 0 3 15 23 28 48 50 58 84...</td>\n",
              "      <td>Training</td>\n",
              "    </tr>\n",
              "  </tbody>\n",
              "</table>\n",
              "</div>"
            ],
            "text/plain": [
              "   emotion                                             pixels     Usage\n",
              "0        0  70 80 82 72 58 58 60 63 54 58 60 48 89 115 121...  Training\n",
              "1        0  151 150 147 155 148 133 111 140 170 174 182 15...  Training\n",
              "2        2  231 212 156 164 174 138 161 173 182 200 106 38...  Training\n",
              "3        4  24 32 36 30 32 23 19 20 30 41 21 22 32 34 21 1...  Training\n",
              "4        6  4 0 0 0 0 0 0 0 0 0 0 0 3 15 23 28 48 50 58 84...  Training"
            ]
          },
          "metadata": {},
          "execution_count": 30
        }
      ]
    },
    {
      "cell_type": "code",
      "metadata": {
        "id": "SPSNOt9Hx5kJ"
      },
      "source": [
        "#this dictionary em will be used to map different emotions\n",
        "em = {0:'Angry', 1:'Disgust', 2:'Fear', 3:'Happy', 4:'Sad', 5:'Surprise', 6:'Neutral'}\n",
        "#Store the different emotions in a list also\n",
        "target_names = ['Angry', 'Disgust', 'Fear', 'Happy', 'Sad', 'Surprise', 'Neutral']"
      ],
      "execution_count": 31,
      "outputs": []
    },
    {
      "cell_type": "code",
      "metadata": {
        "execution": {
          "iopub.status.busy": "2021-07-28T10:41:38.639721Z",
          "iopub.execute_input": "2021-07-28T10:41:38.64026Z",
          "iopub.status.idle": "2021-07-28T10:41:38.668107Z",
          "shell.execute_reply.started": "2021-07-28T10:41:38.640209Z",
          "shell.execute_reply": "2021-07-28T10:41:38.66702Z"
        },
        "trusted": true,
        "colab": {
          "base_uri": "https://localhost:8080/"
        },
        "id": "-6jV-wXdqUdz",
        "outputId": "2653d730-3987-4ccb-b516-6162b49aa422"
      },
      "source": [
        "data.Usage.value_counts()"
      ],
      "execution_count": 32,
      "outputs": [
        {
          "output_type": "execute_result",
          "data": {
            "text/plain": [
              "Training       28709\n",
              "PrivateTest     3589\n",
              "PublicTest      3589\n",
              "Name: Usage, dtype: int64"
            ]
          },
          "metadata": {},
          "execution_count": 32
        }
      ]
    },
    {
      "cell_type": "code",
      "metadata": {
        "colab": {
          "base_uri": "https://localhost:8080/",
          "height": 300
        },
        "id": "JIsh_TQlvYlk",
        "outputId": "40de9e61-782f-4fc3-d04e-1d04b5d5fea1"
      },
      "source": [
        "#To see how many samples of each emotion are present\n",
        "\n",
        "newdf = data.groupby('emotion').size()\n",
        "newdf = pd.DataFrame(newdf)\n",
        "newdf.insert(0, \"Emotion type\", target_names, True)\n",
        "newdf.columns = [ 'Emotion', 'No of samples']\n",
        "newdf\n",
        "\n",
        "# newdf.drop('emotion', inplace=True, axis = 1)"
      ],
      "execution_count": 33,
      "outputs": [
        {
          "output_type": "execute_result",
          "data": {
            "text/html": [
              "<div>\n",
              "<style scoped>\n",
              "    .dataframe tbody tr th:only-of-type {\n",
              "        vertical-align: middle;\n",
              "    }\n",
              "\n",
              "    .dataframe tbody tr th {\n",
              "        vertical-align: top;\n",
              "    }\n",
              "\n",
              "    .dataframe thead th {\n",
              "        text-align: right;\n",
              "    }\n",
              "</style>\n",
              "<table border=\"1\" class=\"dataframe\">\n",
              "  <thead>\n",
              "    <tr style=\"text-align: right;\">\n",
              "      <th></th>\n",
              "      <th>Emotion</th>\n",
              "      <th>No of samples</th>\n",
              "    </tr>\n",
              "    <tr>\n",
              "      <th>emotion</th>\n",
              "      <th></th>\n",
              "      <th></th>\n",
              "    </tr>\n",
              "  </thead>\n",
              "  <tbody>\n",
              "    <tr>\n",
              "      <th>0</th>\n",
              "      <td>Angry</td>\n",
              "      <td>4953</td>\n",
              "    </tr>\n",
              "    <tr>\n",
              "      <th>1</th>\n",
              "      <td>Disgust</td>\n",
              "      <td>547</td>\n",
              "    </tr>\n",
              "    <tr>\n",
              "      <th>2</th>\n",
              "      <td>Fear</td>\n",
              "      <td>5121</td>\n",
              "    </tr>\n",
              "    <tr>\n",
              "      <th>3</th>\n",
              "      <td>Happy</td>\n",
              "      <td>8989</td>\n",
              "    </tr>\n",
              "    <tr>\n",
              "      <th>4</th>\n",
              "      <td>Sad</td>\n",
              "      <td>6077</td>\n",
              "    </tr>\n",
              "    <tr>\n",
              "      <th>5</th>\n",
              "      <td>Surprise</td>\n",
              "      <td>4002</td>\n",
              "    </tr>\n",
              "    <tr>\n",
              "      <th>6</th>\n",
              "      <td>Neutral</td>\n",
              "      <td>6198</td>\n",
              "    </tr>\n",
              "  </tbody>\n",
              "</table>\n",
              "</div>"
            ],
            "text/plain": [
              "          Emotion  No of samples\n",
              "emotion                         \n",
              "0           Angry           4953\n",
              "1         Disgust            547\n",
              "2            Fear           5121\n",
              "3           Happy           8989\n",
              "4             Sad           6077\n",
              "5        Surprise           4002\n",
              "6         Neutral           6198"
            ]
          },
          "metadata": {},
          "execution_count": 33
        }
      ]
    },
    {
      "cell_type": "code",
      "metadata": {
        "execution": {
          "iopub.status.busy": "2021-08-02T12:00:45.39084Z",
          "iopub.execute_input": "2021-08-02T12:00:45.391164Z",
          "iopub.status.idle": "2021-08-02T12:00:45.410469Z",
          "shell.execute_reply.started": "2021-08-02T12:00:45.391136Z",
          "shell.execute_reply": "2021-08-02T12:00:45.40958Z"
        },
        "trusted": true,
        "id": "iJwYIHB0qUd0"
      },
      "source": [
        "#Separate the training, validation and test data sets\n",
        "data_train = data[data['Usage'] == 'Training'].copy()\n",
        "data_val = data[data['Usage'] == 'PublicTest'].copy()\n",
        "data_test = data[data['Usage'] == 'PrivateTest'].copy()"
      ],
      "execution_count": 34,
      "outputs": []
    },
    {
      "cell_type": "code",
      "metadata": {
        "execution": {
          "iopub.status.busy": "2021-08-02T12:00:47.604676Z",
          "iopub.execute_input": "2021-08-02T12:00:47.604993Z",
          "iopub.status.idle": "2021-08-02T12:00:47.630491Z",
          "shell.execute_reply.started": "2021-08-02T12:00:47.604965Z",
          "shell.execute_reply": "2021-08-02T12:00:47.629764Z"
        },
        "trusted": true,
        "colab": {
          "base_uri": "https://localhost:8080/"
        },
        "id": "f9xwgUkJqUd0",
        "outputId": "fed0066d-f504-4b55-b1e6-1dc269f17582"
      },
      "source": [
        "data_train.info()"
      ],
      "execution_count": 35,
      "outputs": [
        {
          "output_type": "stream",
          "text": [
            "<class 'pandas.core.frame.DataFrame'>\n",
            "Int64Index: 28709 entries, 0 to 28708\n",
            "Data columns (total 3 columns):\n",
            " #   Column   Non-Null Count  Dtype \n",
            "---  ------   --------------  ----- \n",
            " 0   emotion  28709 non-null  int64 \n",
            " 1   pixels   28709 non-null  object\n",
            " 2   Usage    28709 non-null  object\n",
            "dtypes: int64(1), object(2)\n",
            "memory usage: 897.2+ KB\n"
          ],
          "name": "stdout"
        }
      ]
    },
    {
      "cell_type": "code",
      "metadata": {
        "execution": {
          "iopub.status.busy": "2021-08-02T12:00:50.209245Z",
          "iopub.execute_input": "2021-08-02T12:00:50.209717Z",
          "iopub.status.idle": "2021-08-02T12:00:50.213534Z",
          "shell.execute_reply.started": "2021-08-02T12:00:50.209678Z",
          "shell.execute_reply": "2021-08-02T12:00:50.212876Z"
        },
        "trusted": true,
        "id": "SEs4Kw1tqUd1"
      },
      "source": [
        "#initilize parameters\n",
        "num_classes = 7 \n",
        "width, height = 48, 48\n",
        "num_epochs = 30\n",
        "batch_size = 32\n",
        "num_features = 64\n",
        "input_shape = (width, height, 1)"
      ],
      "execution_count": 36,
      "outputs": []
    },
    {
      "cell_type": "code",
      "metadata": {
        "execution": {
          "iopub.status.busy": "2021-08-02T12:00:52.417858Z",
          "iopub.execute_input": "2021-08-02T12:00:52.418373Z",
          "iopub.status.idle": "2021-08-02T12:01:16.849477Z",
          "shell.execute_reply.started": "2021-08-02T12:00:52.41833Z",
          "shell.execute_reply": "2021-08-02T12:01:16.848569Z"
        },
        "trusted": true,
        "colab": {
          "base_uri": "https://localhost:8080/"
        },
        "id": "49WdARZqqUd1",
        "outputId": "a5a58b29-76f0-48b6-d977-d7278ab08c6f"
      },
      "source": [
        "#this function converts the pixels into a 2D array of size 48x48 and does one-hot encoding for the emotions\n",
        "from tensorflow.keras.utils import to_categorical\n",
        "def CRNO(df, dataName):\n",
        "    df['pixels'] = df['pixels'].apply(lambda pixel_sequence: [int(pixel) for pixel in pixel_sequence.split()])\n",
        "    data_X = np.array(df['pixels'].tolist(), dtype='float32').reshape(-1,width, height,1)/255.0  \n",
        "    data_Y = to_categorical(df['emotion'], num_classes)  \n",
        "    print(dataName, \"_X shape: {}, \", dataName, \"_Y shape: {}\".format(data_X.shape, data_Y.shape)) \n",
        "    return data_X, data_Y\n",
        "\n",
        "    \n",
        "train_X, train_Y = CRNO(data_train, \"train\") #training data\n",
        "val_X, val_Y     = CRNO(data_val, \"val\") #validation data\n",
        "test_X, test_Y   = CRNO(data_test, \"test\") #test data"
      ],
      "execution_count": 37,
      "outputs": [
        {
          "output_type": "stream",
          "text": [
            "train _X shape: {},  train _Y shape: (28709, 48, 48, 1)\n",
            "val _X shape: {},  val _Y shape: (3589, 48, 48, 1)\n",
            "test _X shape: {},  test _Y shape: (3589, 48, 48, 1)\n"
          ],
          "name": "stdout"
        }
      ]
    },
    {
      "cell_type": "code",
      "metadata": {
        "colab": {
          "base_uri": "https://localhost:8080/",
          "height": 537
        },
        "id": "1KKxyya6r9FF",
        "outputId": "9a69b136-c3eb-404c-d5cc-1a85de37c580"
      },
      "source": [
        "#Let us see some of the images and their target emotions\n",
        "\n",
        "plt.figure(figsize=(16, 10))\n",
        "\n",
        "plt.gray()\n",
        "flag = 0\n",
        "i= 0\n",
        "cnt = 0\n",
        "while cnt < 7:\n",
        "  if data_train.emotion[i] == cnt:\n",
        "        cnt = cnt + 1\n",
        "        plt.subplot(2, 4, cnt)\n",
        "        plt.imshow(train_X[i].reshape(width, height))\n",
        "        plt.title(em[data_train.emotion[i]])\n",
        "        plt.axis('off')    \n",
        "        #cnt = cnt + 1\n",
        "  i = i+1\n",
        "       \n",
        "\n",
        "plt.show()"
      ],
      "execution_count": 39,
      "outputs": [
        {
          "output_type": "display_data",
          "data": {
            "image/png": "[encoded data removed]",
            "text/plain": [
              "<Figure size 1152x720 with 7 Axes>"
            ]
          },
          "metadata": {
            "needs_background": "light"
          }
        }
      ]
    },
    {
      "cell_type": "code",
      "metadata": {
        "execution": {
          "iopub.status.busy": "2021-08-02T12:01:20.607917Z",
          "iopub.execute_input": "2021-08-02T12:01:20.608263Z",
          "iopub.status.idle": "2021-08-02T12:01:21.197129Z",
          "shell.execute_reply.started": "2021-08-02T12:01:20.608232Z",
          "shell.execute_reply": "2021-08-02T12:01:21.196115Z"
        },
        "trusted": true,
        "id": "-_RmUGg5qUd2"
      },
      "source": [
        "from keras.layers.convolutional import Conv2D, MaxPooling2D\n",
        "from tensorflow.keras.layers import BatchNormalization\n",
        "from keras.layers import Dense, Dropout, Activation, Flatten\n",
        "model = keras.Sequential()\n",
        "\n",
        "#Add the different layers to the model\n",
        "\n",
        "\n",
        "#module 1\n",
        "model.add(Conv2D(num_features, kernel_size=(3, 3), input_shape=(width, height, 1), data_format='channels_last'))\n",
        "model.add(BatchNormalization())\n",
        "model.add(Activation('relu'))\n",
        "model.add(Conv2D(num_features, kernel_size=(3, 3), padding='same'))\n",
        "model.add(BatchNormalization())\n",
        "model.add(Activation('relu'))\n",
        "model.add(MaxPooling2D(pool_size=(2, 2), strides=(2, 2)))\n",
        "\n",
        "#module 2\n",
        "model.add(Conv2D(2*num_features, kernel_size=(3, 3), padding='same'))\n",
        "model.add(BatchNormalization())\n",
        "model.add(Activation('relu'))\n",
        "model.add(Conv2D(2*num_features, kernel_size=(3, 3), padding='same'))\n",
        "model.add(BatchNormalization())\n",
        "model.add(Activation('relu'))\n",
        "model.add(MaxPooling2D(pool_size=(2, 2), strides=(2, 2)))\n",
        "\n",
        "#module 3\n",
        "model.add(Conv2D(2*num_features, kernel_size=(3, 3), padding='same'))\n",
        "model.add(BatchNormalization())\n",
        "model.add(Activation('relu'))\n",
        "model.add(Conv2D(2*num_features, kernel_size=(3, 3), padding='same'))\n",
        "model.add(BatchNormalization())\n",
        "model.add(Activation('relu'))\n",
        "model.add(Conv2D(2*num_features, kernel_size=(3, 3), padding='same'))\n",
        "model.add(BatchNormalization())\n",
        "model.add(Activation('relu'))\n",
        "model.add(MaxPooling2D(pool_size=(2, 2), strides=(2, 2)))\n",
        "\n",
        "\n",
        "#module 4\n",
        "model.add(Conv2D(num_features*8, kernel_size=(3, 3), padding='same'))\n",
        "model.add(BatchNormalization())\n",
        "model.add(Activation('relu'))\n",
        "model.add(Conv2D(num_features*8, kernel_size=(3, 3), padding='same'))\n",
        "model.add(BatchNormalization())\n",
        "model.add(Activation('relu'))\n",
        "model.add(Conv2D(num_features*8, kernel_size=(3, 3), padding='same'))\n",
        "model.add(BatchNormalization())\n",
        "model.add(Activation('relu'))\n",
        "model.add(MaxPooling2D(pool_size=(2, 2), strides=(2, 2)))\n",
        "\n",
        "#flatten\n",
        "model.add(Flatten())\n",
        "\n",
        "#dense 1\n",
        "model.add(Dense(64*num_features))\n",
        "model.add(BatchNormalization())\n",
        "model.add(Activation('relu'))\n",
        "\n",
        "#dense 2\n",
        "model.add(Dense(64*num_features))\n",
        "model.add(BatchNormalization())\n",
        "model.add(Activation('relu'))\n",
        "\n",
        "model.add(Dropout(0.3))\n",
        "\n",
        "#output layer\n",
        "model.add(Dense(num_classes, activation='softmax'))\n",
        "\n",
        "\n",
        "\n"
      ],
      "execution_count": 40,
      "outputs": []
    },
    {
      "cell_type": "code",
      "metadata": {
        "id": "gnVbAMzEKU8I"
      },
      "source": [
        "from keras.callbacks import History \n",
        "history = History()"
      ],
      "execution_count": 41,
      "outputs": []
    },
    {
      "cell_type": "code",
      "metadata": {
        "execution": {
          "iopub.status.busy": "2021-08-02T12:01:28.080639Z",
          "iopub.execute_input": "2021-08-02T12:01:28.080964Z",
          "iopub.status.idle": "2021-08-02T14:31:32.524699Z",
          "shell.execute_reply.started": "2021-08-02T12:01:28.080935Z",
          "shell.execute_reply": "2021-08-02T14:31:32.523287Z"
        },
        "trusted": true,
        "colab": {
          "base_uri": "https://localhost:8080/"
        },
        "id": "zNFswIffqUd2",
        "outputId": "e262b3ce-bce4-4a86-af7c-2b45ba79daf4"
      },
      "source": [
        "#train the model\n",
        "model.compile(loss=\"categorical_crossentropy\", optimizer=\"adam\", metrics=[\"accuracy\"])\n",
        "history = model.fit(train_X, train_Y, batch_size=batch_size, epochs=num_epochs, validation_data=(val_X, val_Y))\n",
        "model.summary()"
      ],
      "execution_count": 42,
      "outputs": [
        {
          "output_type": "stream",
          "text": [
            "Epoch 1/30\n",
            "898/898 [==============================] - 32s 34ms/step - loss: 2.2077 - accuracy: 0.2149 - val_loss: 2.9988 - val_accuracy: 0.1839\n",
            "Epoch 2/30\n",
            "898/898 [==============================] - 31s 34ms/step - loss: 2.1360 - accuracy: 0.2342 - val_loss: 2.2447 - val_accuracy: 0.2541\n",
            "Epoch 3/30\n",
            "898/898 [==============================] - 31s 35ms/step - loss: 1.9765 - accuracy: 0.2985 - val_loss: 2.2393 - val_accuracy: 0.2218\n",
            "Epoch 4/30\n",
            "898/898 [==============================] - 31s 35ms/step - loss: 1.9224 - accuracy: 0.3411 - val_loss: 1.5543 - val_accuracy: 0.3876\n",
            "Epoch 5/30\n",
            "898/898 [==============================] - 31s 35ms/step - loss: 1.8384 - accuracy: 0.3816 - val_loss: 3.7454 - val_accuracy: 0.3714\n",
            "Epoch 6/30\n",
            "898/898 [==============================] - 32s 35ms/step - loss: 1.7522 - accuracy: 0.4140 - val_loss: 1.5062 - val_accuracy: 0.4051\n",
            "Epoch 7/30\n",
            "898/898 [==============================] - 31s 35ms/step - loss: 1.6916 - accuracy: 0.4496 - val_loss: 1.4835 - val_accuracy: 0.4386\n",
            "Epoch 8/30\n",
            "898/898 [==============================] - 31s 35ms/step - loss: 1.6579 - accuracy: 0.4455 - val_loss: 1.4296 - val_accuracy: 0.4450\n",
            "Epoch 9/30\n",
            "898/898 [==============================] - 31s 35ms/step - loss: 1.5124 - accuracy: 0.4598 - val_loss: 1.4291 - val_accuracy: 0.4533\n",
            "Epoch 10/30\n",
            "898/898 [==============================] - 31s 35ms/step - loss: 1.3442 - accuracy: 0.5016 - val_loss: 1.4710 - val_accuracy: 0.4405\n",
            "Epoch 11/30\n",
            "898/898 [==============================] - 31s 35ms/step - loss: 1.2710 - accuracy: 0.5266 - val_loss: 1.2602 - val_accuracy: 0.5224\n",
            "Epoch 12/30\n",
            "898/898 [==============================] - 32s 35ms/step - loss: 1.2126 - accuracy: 0.5570 - val_loss: 1.2401 - val_accuracy: 0.5352\n",
            "Epoch 13/30\n",
            "898/898 [==============================] - 32s 35ms/step - loss: 1.1595 - accuracy: 0.5752 - val_loss: 1.2949 - val_accuracy: 0.5222\n",
            "Epoch 14/30\n",
            "898/898 [==============================] - 32s 35ms/step - loss: 1.0827 - accuracy: 0.6003 - val_loss: 1.2172 - val_accuracy: 0.5522\n",
            "Epoch 15/30\n",
            "898/898 [==============================] - 32s 35ms/step - loss: 1.0692 - accuracy: 0.6105 - val_loss: 1.1980 - val_accuracy: 0.5673\n",
            "Epoch 16/30\n",
            "898/898 [==============================] - 32s 35ms/step - loss: 0.9434 - accuracy: 0.6615 - val_loss: 1.2499 - val_accuracy: 0.5695\n",
            "Epoch 17/30\n",
            "898/898 [==============================] - 32s 35ms/step - loss: 0.8439 - accuracy: 0.6946 - val_loss: 1.3080 - val_accuracy: 0.5782\n",
            "Epoch 18/30\n",
            "898/898 [==============================] - 32s 35ms/step - loss: 0.7489 - accuracy: 0.7325 - val_loss: 1.3779 - val_accuracy: 0.5539\n",
            "Epoch 19/30\n",
            "898/898 [==============================] - 32s 35ms/step - loss: 0.6252 - accuracy: 0.7759 - val_loss: 1.5002 - val_accuracy: 0.5648\n",
            "Epoch 20/30\n",
            "898/898 [==============================] - 32s 35ms/step - loss: 0.5753 - accuracy: 0.7995 - val_loss: 1.5317 - val_accuracy: 0.5848\n",
            "Epoch 21/30\n",
            "898/898 [==============================] - 31s 35ms/step - loss: 0.4297 - accuracy: 0.8498 - val_loss: 1.6452 - val_accuracy: 0.5793\n",
            "Epoch 22/30\n",
            "898/898 [==============================] - 32s 35ms/step - loss: 0.3420 - accuracy: 0.8783 - val_loss: 1.8545 - val_accuracy: 0.5768\n",
            "Epoch 23/30\n",
            "898/898 [==============================] - 32s 35ms/step - loss: 0.3299 - accuracy: 0.8862 - val_loss: 1.9952 - val_accuracy: 0.5773\n",
            "Epoch 24/30\n",
            "898/898 [==============================] - 32s 35ms/step - loss: 0.2643 - accuracy: 0.9108 - val_loss: 2.1106 - val_accuracy: 0.5779\n",
            "Epoch 25/30\n",
            "898/898 [==============================] - 32s 35ms/step - loss: 0.2124 - accuracy: 0.9279 - val_loss: 2.5469 - val_accuracy: 0.5634\n",
            "Epoch 26/30\n",
            "898/898 [==============================] - 31s 35ms/step - loss: 0.2012 - accuracy: 0.9340 - val_loss: 2.4864 - val_accuracy: 0.5751\n",
            "Epoch 27/30\n",
            "898/898 [==============================] - 31s 35ms/step - loss: 0.1760 - accuracy: 0.9418 - val_loss: 2.5136 - val_accuracy: 0.5720\n",
            "Epoch 28/30\n",
            "898/898 [==============================] - 32s 35ms/step - loss: 0.1597 - accuracy: 0.9451 - val_loss: 2.6878 - val_accuracy: 0.5751\n",
            "Epoch 29/30\n",
            "898/898 [==============================] - 32s 35ms/step - loss: 0.1424 - accuracy: 0.9530 - val_loss: 2.5083 - val_accuracy: 0.5901\n",
            "Epoch 30/30\n",
            "898/898 [==============================] - 32s 35ms/step - loss: 0.1654 - accuracy: 0.9453 - val_loss: 2.4568 - val_accuracy: 0.5896\n",
            "Model: \"sequential_1\"\n",
            "_________________________________________________________________\n",
            "Layer (type)                 Output Shape              Param #   \n",
            "=================================================================\n",
            "conv2d_10 (Conv2D)           (None, 46, 46, 64)        640       \n",
            "_________________________________________________________________\n",
            "batch_normalization_12 (Batc (None, 46, 46, 64)        256       \n",
            "_________________________________________________________________\n",
            "activation_12 (Activation)   (None, 46, 46, 64)        0         \n",
            "_________________________________________________________________\n",
            "conv2d_11 (Conv2D)           (None, 46, 46, 64)        36928     \n",
            "_________________________________________________________________\n",
            "batch_normalization_13 (Batc (None, 46, 46, 64)        256       \n",
            "_________________________________________________________________\n",
            "activation_13 (Activation)   (None, 46, 46, 64)        0         \n",
            "_________________________________________________________________\n",
            "max_pooling2d_4 (MaxPooling2 (None, 23, 23, 64)        0         \n",
            "_________________________________________________________________\n",
            "conv2d_12 (Conv2D)           (None, 23, 23, 128)       73856     \n",
            "_________________________________________________________________\n",
            "batch_normalization_14 (Batc (None, 23, 23, 128)       512       \n",
            "_________________________________________________________________\n",
            "activation_14 (Activation)   (None, 23, 23, 128)       0         \n",
            "_________________________________________________________________\n",
            "conv2d_13 (Conv2D)           (None, 23, 23, 128)       147584    \n",
            "_________________________________________________________________\n",
            "batch_normalization_15 (Batc (None, 23, 23, 128)       512       \n",
            "_________________________________________________________________\n",
            "activation_15 (Activation)   (None, 23, 23, 128)       0         \n",
            "_________________________________________________________________\n",
            "max_pooling2d_5 (MaxPooling2 (None, 11, 11, 128)       0         \n",
            "_________________________________________________________________\n",
            "conv2d_14 (Conv2D)           (None, 11, 11, 128)       147584    \n",
            "_________________________________________________________________\n",
            "batch_normalization_16 (Batc (None, 11, 11, 128)       512       \n",
            "_________________________________________________________________\n",
            "activation_16 (Activation)   (None, 11, 11, 128)       0         \n",
            "_________________________________________________________________\n",
            "conv2d_15 (Conv2D)           (None, 11, 11, 128)       147584    \n",
            "_________________________________________________________________\n",
            "batch_normalization_17 (Batc (None, 11, 11, 128)       512       \n",
            "_________________________________________________________________\n",
            "activation_17 (Activation)   (None, 11, 11, 128)       0         \n",
            "_________________________________________________________________\n",
            "conv2d_16 (Conv2D)           (None, 11, 11, 128)       147584    \n",
            "_________________________________________________________________\n",
            "batch_normalization_18 (Batc (None, 11, 11, 128)       512       \n",
            "_________________________________________________________________\n",
            "activation_18 (Activation)   (None, 11, 11, 128)       0         \n",
            "_________________________________________________________________\n",
            "max_pooling2d_6 (MaxPooling2 (None, 5, 5, 128)         0         \n",
            "_________________________________________________________________\n",
            "conv2d_17 (Conv2D)           (None, 5, 5, 512)         590336    \n",
            "_________________________________________________________________\n",
            "batch_normalization_19 (Batc (None, 5, 5, 512)         2048      \n",
            "_________________________________________________________________\n",
            "activation_19 (Activation)   (None, 5, 5, 512)         0         \n",
            "_________________________________________________________________\n",
            "conv2d_18 (Conv2D)           (None, 5, 5, 512)         2359808   \n",
            "_________________________________________________________________\n",
            "batch_normalization_20 (Batc (None, 5, 5, 512)         2048      \n",
            "_________________________________________________________________\n",
            "activation_20 (Activation)   (None, 5, 5, 512)         0         \n",
            "_________________________________________________________________\n",
            "conv2d_19 (Conv2D)           (None, 5, 5, 512)         2359808   \n",
            "_________________________________________________________________\n",
            "batch_normalization_21 (Batc (None, 5, 5, 512)         2048      \n",
            "_________________________________________________________________\n",
            "activation_21 (Activation)   (None, 5, 5, 512)         0         \n",
            "_________________________________________________________________\n",
            "max_pooling2d_7 (MaxPooling2 (None, 2, 2, 512)         0         \n",
            "_________________________________________________________________\n",
            "flatten_1 (Flatten)          (None, 2048)              0         \n",
            "_________________________________________________________________\n",
            "dense_3 (Dense)              (None, 4096)              8392704   \n",
            "_________________________________________________________________\n",
            "batch_normalization_22 (Batc (None, 4096)              16384     \n",
            "_________________________________________________________________\n",
            "activation_22 (Activation)   (None, 4096)              0         \n",
            "_________________________________________________________________\n",
            "dense_4 (Dense)              (None, 4096)              16781312  \n",
            "_________________________________________________________________\n",
            "batch_normalization_23 (Batc (None, 4096)              16384     \n",
            "_________________________________________________________________\n",
            "activation_23 (Activation)   (None, 4096)              0         \n",
            "_________________________________________________________________\n",
            "dropout_1 (Dropout)          (None, 4096)              0         \n",
            "_________________________________________________________________\n",
            "dense_5 (Dense)              (None, 7)                 28679     \n",
            "=================================================================\n",
            "Total params: 31,256,391\n",
            "Trainable params: 31,235,399\n",
            "Non-trainable params: 20,992\n",
            "_________________________________________________________________\n"
          ],
          "name": "stdout"
        }
      ]
    },
    {
      "cell_type": "code",
      "metadata": {
        "colab": {
          "base_uri": "https://localhost:8080/"
        },
        "id": "MLuyIkmU7hkj",
        "outputId": "abb4b758-810d-43cb-8083-aa10ec915bf0"
      },
      "source": [
        "#To check our model's score on validation and test data\n",
        "score = model.evaluate(val_X, val_Y, verbose = 0)\n",
        "print(\"Val loss:\", score[0])\n",
        "print(\"Val accuracy: \", score[1])"
      ],
      "execution_count": 43,
      "outputs": [
        {
          "output_type": "stream",
          "text": [
            "Val loss: 2.4567506313323975\n",
            "Val accuracy:  0.5895792841911316\n"
          ],
          "name": "stdout"
        }
      ]
    },
    {
      "cell_type": "code",
      "metadata": {
        "colab": {
          "base_uri": "https://localhost:8080/"
        },
        "id": "W_iIe4K4q276",
        "outputId": "c5ce13ac-bcfc-4d91-dda1-99c24e0d5e9b"
      },
      "source": [
        "score = model.evaluate(test_X, test_Y, verbose=0)\n",
        "print(\"Test loss:\", score[0])\n",
        "print(\"Test accuracy:\", score[1])"
      ],
      "execution_count": 44,
      "outputs": [
        {
          "output_type": "stream",
          "text": [
            "Test loss: 2.307828664779663\n",
            "Test accuracy: 0.5879074931144714\n"
          ],
          "name": "stdout"
        }
      ]
    },
    {
      "cell_type": "code",
      "metadata": {
        "id": "8PVIOPZkLN78",
        "colab": {
          "base_uri": "https://localhost:8080/",
          "height": 295
        },
        "outputId": "43d80b1a-4374-42ea-d3ef-46bf9ca0aa38"
      },
      "source": [
        "#print(history.history.keys())\n",
        "loss_train = history.history['accuracy']\n",
        "loss_val = history.history['val_accuracy']\n",
        "epochs = range(1, 31)\n",
        "plt.plot(epochs, loss_train, 'g', label='Training accuracy')\n",
        "plt.plot(epochs, loss_val, 'b', label='validation accuracy')\n",
        "plt.title('Training and Validation accuracy')\n",
        "plt.xlabel('Epochs')\n",
        "plt.ylabel('Accuracy')\n",
        "plt.legend()\n",
        "plt.show()"
      ],
      "execution_count": 48,
      "outputs": [
        {
          "output_type": "display_data",
          "data": {
            "image/png": "[encoded data removed]",
            "text/plain": [
              "<Figure size 432x288 with 1 Axes>"
            ]
          },
          "metadata": {
            "needs_background": "light"
          }
        }
      ]
    },
    {
      "cell_type": "code",
      "metadata": {
        "id": "mW9kJzG3rRFZ"
      },
      "source": [
        "predict_prob = model.predict(test_X)\n",
        "pred = np.argmax(predict_prob,axis=1)\n",
        "actual = np.argmax(test_Y,axis=1)"
      ],
      "execution_count": 49,
      "outputs": []
    },
    {
      "cell_type": "code",
      "metadata": {
        "colab": {
          "base_uri": "https://localhost:8080/",
          "height": 442
        },
        "id": "KwpKecuZrJRi",
        "outputId": "a7fb2036-d365-41b3-fb62-897e4b6b5f04"
      },
      "source": [
        "#display confusion matrix\n",
        "cm = confusion_matrix(data_test.emotion, pred)\n",
        "df_cm = pd.DataFrame(cm, (emotion for emotion in target_names), (emotion for emotion in target_names))\n",
        "plt.figure(figsize = (10,7))\n",
        "sn.heatmap(df_cm, annot=True, fmt='g')\n",
        "plt.xlabel('Predicted')\n",
        "plt.ylabel('Truth')\n",
        "plt.show()"
      ],
      "execution_count": 50,
      "outputs": [
        {
          "output_type": "display_data",
          "data": {
            "image/png": "[encoded data removed]",
            "text/plain": [
              "<Figure size 720x504 with 2 Axes>"
            ]
          },
          "metadata": {
            "needs_background": "light"
          }
        }
      ]
    },
    {
      "cell_type": "code",
      "metadata": {
        "colab": {
          "base_uri": "https://localhost:8080/"
        },
        "id": "mKMOe5IQtS4n",
        "outputId": "99a6f404-617c-46ec-da20-802805402a21"
      },
      "source": [
        "#his code snippet is for displaying the classification report\n",
        "from sklearn.metrics import classification_report\n",
        "from sklearn.metrics import accuracy_score\n",
        "print(classification_report(data_test['emotion'], pred, target_names=target_names, digits=2))\n"
      ],
      "execution_count": 51,
      "outputs": [
        {
          "output_type": "stream",
          "text": [
            "              precision    recall  f1-score   support\n",
            "\n",
            "       Angry       0.52      0.49      0.50       491\n",
            "     Disgust       0.41      0.64      0.50        55\n",
            "        Fear       0.48      0.42      0.45       528\n",
            "       Happy       0.69      0.86      0.77       879\n",
            "         Sad       0.43      0.39      0.41       594\n",
            "    Surprise       0.74      0.73      0.74       416\n",
            "     Neutral       0.59      0.51      0.55       626\n",
            "\n",
            "    accuracy                           0.59      3589\n",
            "   macro avg       0.55      0.58      0.56      3589\n",
            "weighted avg       0.58      0.59      0.58      3589\n",
            "\n"
          ],
          "name": "stdout"
        }
      ]
    },
    {
      "cell_type": "code",
      "metadata": {
        "colab": {
          "base_uri": "https://localhost:8080/",
          "height": 269
        },
        "id": "oTlS0R_-t2Xh",
        "outputId": "b9761a39-5400-4b5d-bc0c-6d254569f717"
      },
      "source": [
        "# Check Accuracy of each class \n",
        "\n",
        "#Normalize the entries\n",
        "cm = cm.astype('float') / cm.sum(axis=1)[:, np.newaxis]\n",
        "\n",
        "#The diagonal entries are the accuracies of each class\n",
        "cm.diagonal()\n",
        "d ={'Emotion': target_names, 'Accuracy': cm.diagonal()}\n",
        "df = pd.DataFrame(d)\n",
        "df"
      ],
      "execution_count": 52,
      "outputs": [
        {
          "output_type": "execute_result",
          "data": {
            "text/html": [
              "<div>\n",
              "<style scoped>\n",
              "    .dataframe tbody tr th:only-of-type {\n",
              "        vertical-align: middle;\n",
              "    }\n",
              "\n",
              "    .dataframe tbody tr th {\n",
              "        vertical-align: top;\n",
              "    }\n",
              "\n",
              "    .dataframe thead th {\n",
              "        text-align: right;\n",
              "    }\n",
              "</style>\n",
              "<table border=\"1\" class=\"dataframe\">\n",
              "  <thead>\n",
              "    <tr style=\"text-align: right;\">\n",
              "      <th></th>\n",
              "      <th>Emotion</th>\n",
              "      <th>Accuracy</th>\n",
              "    </tr>\n",
              "  </thead>\n",
              "  <tbody>\n",
              "    <tr>\n",
              "      <th>0</th>\n",
              "      <td>Angry</td>\n",
              "      <td>0.490835</td>\n",
              "    </tr>\n",
              "    <tr>\n",
              "      <th>1</th>\n",
              "      <td>Disgust</td>\n",
              "      <td>0.636364</td>\n",
              "    </tr>\n",
              "    <tr>\n",
              "      <th>2</th>\n",
              "      <td>Fear</td>\n",
              "      <td>0.420455</td>\n",
              "    </tr>\n",
              "    <tr>\n",
              "      <th>3</th>\n",
              "      <td>Happy</td>\n",
              "      <td>0.856655</td>\n",
              "    </tr>\n",
              "    <tr>\n",
              "      <th>4</th>\n",
              "      <td>Sad</td>\n",
              "      <td>0.392256</td>\n",
              "    </tr>\n",
              "    <tr>\n",
              "      <th>5</th>\n",
              "      <td>Surprise</td>\n",
              "      <td>0.733173</td>\n",
              "    </tr>\n",
              "    <tr>\n",
              "      <th>6</th>\n",
              "      <td>Neutral</td>\n",
              "      <td>0.512780</td>\n",
              "    </tr>\n",
              "  </tbody>\n",
              "</table>\n",
              "</div>"
            ],
            "text/plain": [
              "    Emotion  Accuracy\n",
              "0     Angry  0.490835\n",
              "1   Disgust  0.636364\n",
              "2      Fear  0.420455\n",
              "3     Happy  0.856655\n",
              "4       Sad  0.392256\n",
              "5  Surprise  0.733173\n",
              "6   Neutral  0.512780"
            ]
          },
          "metadata": {},
          "execution_count": 52
        }
      ]
    }
  ]
}